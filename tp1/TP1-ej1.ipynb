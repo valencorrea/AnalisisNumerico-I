{
 "cells": [
  {
   "cell_type": "markdown",
   "metadata": {},
   "source": [
    "## 1. Enunciado\n",
    "1. **Fuerza Bruta**\n",
    "\n",
    "Vamos a descubrir la contraseña de un candado.\n",
    "\n",
    "(a) Definir un número entero de 4 dígitos al azar a través de la función random, simulando la\n",
    "clave de un candado.\n",
    "\n",
    "(b) Programar un algoritmo de fuerza bruta para hallar la clave.\n",
    "\n",
    "(c) Realizar el experimento al menos 100000 veces, anotando la cantidad de intentos realizados\n",
    "hasta hallar la respuesta.\n",
    "\n",
    "(d) Realizar un histograma para graficar los intentos. Las columnas del histograma serán separadas\n",
    "en 0-10, 10-20, 20-30, etc...\n",
    "\n",
    "(e) ¿Sirve como método de búsqueda de raíces?\n",
    "\n",
    "(f) ¿Bajo que condiciones lo utilizaría?\n",
    "\n",
    "(g) ¿Sería correcto hablar de convergencia?"
   ]
  },
  {
   "cell_type": "markdown",
   "metadata": {},
   "source": [
    "## Desarrollo"
   ]
  },
  {
   "cell_type": "markdown",
   "metadata": {},
   "source": [
    "A continuación se desarrolla el código propuesto para resolver los ítems a), b) y c)"
   ]
  },
  {
   "cell_type": "code",
   "execution_count": 1,
   "metadata": {},
   "outputs": [],
   "source": [
    "import random\n",
    "import matplotlib.pyplot as plt\n",
    "cant_experimentos = 100000\n",
    "cant_intentos = [0] * (cant_experimentos)\n",
    "cant_combinaciones = 10000"
   ]
  },
  {
   "cell_type": "code",
   "execution_count": 2,
   "metadata": {},
   "outputs": [
    {
     "name": "stdout",
     "output_type": "stream",
     "text": [
      "Wall time: 58.6 s\n"
     ]
    }
   ],
   "source": [
    "%%time\n",
    "for num_experim in range (0,cant_experimentos-1):\n",
    "    numero = int(random.random()*(cant_combinaciones-1))\n",
    "    comb_descubierta = False\n",
    "    comb_a_probar = 0\n",
    "    while comb_descubierta == False:\n",
    "        if (comb_a_probar == numero):\n",
    "            comb_descubierta = True\n",
    "            cant_intentos[num_experim] = comb_a_probar + 1\n",
    "        comb_a_probar += 1"
   ]
  },
  {
   "cell_type": "code",
   "execution_count": 11,
   "metadata": {},
   "outputs": [
    {
     "data": {
      "image/png": "[encoded data removed]",
      "text/plain": [
       "<Figure size 1080x576 with 1 Axes>"
      ]
     },
     "metadata": {},
     "output_type": "display_data"
    },
    {
     "name": "stdout",
     "output_type": "stream",
     "text": [
      "Wall time: 1.18 s\n"
     ]
    }
   ],
   "source": [
    "%%time\n",
    "long_bins = 10\n",
    "plt.figure(figsize=(15,8))\n",
    "plt.hist(cant_intentos, bins=int(cant_combinaciones/long_bins), range=(0,cant_combinaciones-1))\n",
    "plt.title('Histograma de cantidad de intentos realizados para hallar la combinación')\n",
    "plt.xlabel('Cantidad de intentos agrupados de 10 en 10')\n",
    "plt.show()"
   ]
  },
  {
   "cell_type": "markdown",
   "metadata": {},
   "source": [
    "**(e) ¿Sirve como método de búsqueda de raíces?**"
   ]
  },
  {
   "cell_type": "markdown",
   "metadata": {},
   "source": [
    "En principio sí, pero no es práctico, porque se itera a ciegas sin otro criterio que el de repetir hasta acercarse a un valor, y por otro lado no es necesariamente útil, porque al acercarse lo suficiente al valor buscado, el algoritmo se detiene y devuelve un valor, pero no nos asegura que el valor devuelto sea la raíz a hallar."
   ]
  },
  {
   "cell_type": "markdown",
   "metadata": {},
   "source": [
    "**(f) ¿Bajo que condiciones lo utilizaría?**"
   ]
  },
  {
   "cell_type": "markdown",
   "metadata": {},
   "source": [
    "Lo utilizaríamos en caso de desear cortar la ejecución del algoritmo utilizando un error absoluto suficientemente pequeño como para acercarnos tanto como deseemos al valor buscado, pero que implique que la cantidad máxima de iteraciones sea también pequeña para que el tiempo máximo de ejecución sea razonable."
   ]
  },
  {
   "cell_type": "markdown",
   "metadata": {},
   "source": [
    "**(g) ¿Sería correcto hablar de convergencia?**"
   ]
  },
  {
   "cell_type": "markdown",
   "metadata": {},
   "source": [
    "No, porque para hablar de convergencia es necesario poder calcular el error de la solución propuesta en cada iteración, lo que en el método de fuerza bruta no ocurre. Eso se debe a que se recorre el intervalo en el que está la solución de manera lineal y progresiva, sin saber cuán lejos o cerca se está de hallar el valor que cumpla con las condiciones impuestas de error."
   ]
  },
  {
   "cell_type": "code",
   "execution_count": null,
   "metadata": {},
   "outputs": [],
   "source": []
  }
 ],
 "metadata": {
  "kernelspec": {
   "display_name": "Python 3",
   "language": "python",
   "name": "python3"
  },
  "language_info": {
   "codemirror_mode": {
    "name": "ipython",
    "version": 3
   },
   "file_extension": ".py",
   "mimetype": "text/x-python",
   "name": "python",
   "nbconvert_exporter": "python",
   "pygments_lexer": "ipython3",
   "version": "3.6.5"
  }
 },
 "nbformat": 4,
 "nbformat_minor": 2
}
